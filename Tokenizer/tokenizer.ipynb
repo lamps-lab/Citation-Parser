{
 "cells": [
  {
   "cell_type": "code",
   "execution_count": 6,
   "id": "21f58cb1-6963-484e-98b7-fb80b49ebc01",
   "metadata": {},
   "outputs": [
    {
     "name": "stdout",
     "output_type": "stream",
     "text": [
      "Ozeki, R. (2013) A tale for the time being. New York: Penguin Books.\n",
      "['Ozeki', ',', 'R', '.', '(', '2013', ')', 'A', 'tale', 'for', 'the', 'time', 'being', '.', 'New', 'York', ':', 'Penguin', 'Books', '.']\n"
     ]
    }
   ],
   "source": [
    "'''\n",
    "    This block tokenize a real world reference string\n",
    "'''\n",
    "import re\n",
    "# Utility method : Remove ASCII and unicodes\n",
    "def strip_non_ascii(string):\n",
    "  ''' Returns the string without non ASCII characters'''\n",
    "  stripped = (c for c in string if 0 < ord(c) < 127)\n",
    "  return ''.join(stripped)\n",
    "\n",
    "\n",
    "def tokenizer(citationString):\n",
    "    citationString = strip_non_ascii(citationString.replace('‚Äì','-').encode(\"ascii\", \"ignore\").decode()) \n",
    "    \n",
    "    charPattern = r\"[\\w\\d]\"\n",
    "    noCharPattern = r\"[\\W]\"\n",
    "    endPtr = 0\n",
    "    word = \"\"\n",
    "    tokens = []\n",
    "    \n",
    "    while endPtr < len(citationString):\n",
    "      if re.search(charPattern, citationString[endPtr]):\n",
    "        word += citationString[endPtr]\n",
    "      elif re.search(noCharPattern, citationString[endPtr]):\n",
    "        if word is not \"\":\n",
    "          tokens.append(word)   \n",
    "        tokens.append(citationString[endPtr])\n",
    "        word = \"\"\n",
    "\n",
    "      endPtr = endPtr + 1\n",
    "    \n",
    "    tokensWithoutSpace = []\n",
    "    for item in tokens:\n",
    "        if item is not \" \":\n",
    "            tokensWithoutSpace.append(item)\n",
    "    #print(tokensWithoutSpace)\n",
    "    return tokensWithoutSpace\n",
    "\n",
    "string = 'Ozeki, R. (2013) A tale for the time being. New York: Penguin Books.'\n",
    "print(string)\n",
    "print(tokenizer(string))"
   ]
  },
  {
   "cell_type": "code",
   "execution_count": null,
   "id": "5448adbb-1b7f-4eb4-9a1f-7f25e2b7a364",
   "metadata": {},
   "outputs": [],
   "source": []
  }
 ],
 "metadata": {
  "kernelspec": {
   "display_name": "Python 3",
   "language": "python",
   "name": "python3"
  },
  "language_info": {
   "codemirror_mode": {
    "name": "ipython",
    "version": 3
   },
   "file_extension": ".py",
   "mimetype": "text/x-python",
   "name": "python",
   "nbconvert_exporter": "python",
   "pygments_lexer": "ipython3",
   "version": "3.7.10"
  }
 },
 "nbformat": 4,
 "nbformat_minor": 5
}
